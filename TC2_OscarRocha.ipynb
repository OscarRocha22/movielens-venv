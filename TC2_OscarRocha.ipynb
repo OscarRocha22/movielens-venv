{
 "cells": [
  {
   "cell_type": "code",
   "execution_count": 70,
   "metadata": {},
   "outputs": [],
   "source": [
    "import pandas as pd\n",
    "import numpy as np"
   ]
  },
  {
   "cell_type": "code",
   "execution_count": 71,
   "metadata": {},
   "outputs": [],
   "source": [
    "df = pd.read_csv(\"/home/josue/Documents/movielens-venv/data/ml-latest-small/movies.csv\")\n",
    "\n"
   ]
  },
  {
   "cell_type": "code",
   "execution_count": null,
   "metadata": {},
   "outputs": [],
   "source": [
    "\n",
    "df[['title', 'year']] = df['title'].str.extract(r'^(.*)\\s+\\((\\d{4})\\)$')\n",
    "\n",
    "df['title'] = df['title'].str.strip()\n",
    "\n",
    "df['year'] = df['year'].astype('Int64')\n",
    "\n"
   ]
  },
  {
   "cell_type": "code",
   "execution_count": null,
   "metadata": {},
   "outputs": [
    {
     "data": {
      "application/vnd.microsoft.datawrangler.viewer.v0+json": {
       "columns": [
        {
         "name": "index",
         "rawType": "int64",
         "type": "integer"
        },
        {
         "name": "movieId",
         "rawType": "int64",
         "type": "integer"
        },
        {
         "name": "title",
         "rawType": "object",
         "type": "unknown"
        },
        {
         "name": "genres",
         "rawType": "object",
         "type": "string"
        },
        {
         "name": "year",
         "rawType": "Int64",
         "type": "integer"
        }
       ],
       "ref": "499b4468-0a74-472d-8dae-977993589639",
       "rows": [
        [
         "0",
         "1",
         "Toy Story",
         "Adventure|Animation|Children|Comedy|Fantasy",
         "1995"
        ],
        [
         "1",
         "2",
         "Jumanji",
         "Adventure|Children|Fantasy",
         "1995"
        ],
        [
         "2",
         "3",
         "Grumpier Old Men",
         "Comedy|Romance",
         "1995"
        ],
        [
         "3",
         "4",
         "Waiting to Exhale",
         "Comedy|Drama|Romance",
         "1995"
        ],
        [
         "4",
         "5",
         "Father of the Bride Part II",
         "Comedy",
         "1995"
        ],
        [
         "5",
         "6",
         "Heat",
         "Action|Crime|Thriller",
         "1995"
        ],
        [
         "6",
         "7",
         "Sabrina",
         "Comedy|Romance",
         "1995"
        ],
        [
         "7",
         "8",
         "Tom and Huck",
         "Adventure|Children",
         "1995"
        ],
        [
         "8",
         "9",
         "Sudden Death",
         "Action",
         "1995"
        ],
        [
         "9",
         "10",
         "GoldenEye",
         "Action|Adventure|Thriller",
         "1995"
        ],
        [
         "10",
         "11",
         "American President, The",
         "Comedy|Drama|Romance",
         "1995"
        ],
        [
         "11",
         "12",
         "Dracula: Dead and Loving It",
         "Comedy|Horror",
         "1995"
        ],
        [
         "12",
         "13",
         "Balto",
         "Adventure|Animation|Children",
         "1995"
        ],
        [
         "13",
         "14",
         "Nixon",
         "Drama",
         "1995"
        ],
        [
         "14",
         "15",
         "Cutthroat Island",
         "Action|Adventure|Romance",
         "1995"
        ],
        [
         "15",
         "16",
         "Casino",
         "Crime|Drama",
         "1995"
        ],
        [
         "16",
         "17",
         "Sense and Sensibility",
         "Drama|Romance",
         "1995"
        ],
        [
         "17",
         "18",
         "Four Rooms",
         "Comedy",
         "1995"
        ],
        [
         "18",
         "19",
         "Ace Ventura: When Nature Calls",
         "Comedy",
         "1995"
        ],
        [
         "19",
         "20",
         "Money Train",
         "Action|Comedy|Crime|Drama|Thriller",
         "1995"
        ],
        [
         "20",
         "21",
         "Get Shorty",
         "Comedy|Crime|Thriller",
         "1995"
        ],
        [
         "21",
         "22",
         "Copycat",
         "Crime|Drama|Horror|Mystery|Thriller",
         "1995"
        ],
        [
         "22",
         "23",
         "Assassins",
         "Action|Crime|Thriller",
         "1995"
        ],
        [
         "23",
         "24",
         "Powder",
         "Drama|Sci-Fi",
         "1995"
        ],
        [
         "24",
         "25",
         "Leaving Las Vegas",
         "Drama|Romance",
         "1995"
        ],
        [
         "25",
         "26",
         "Othello",
         "Drama",
         "1995"
        ],
        [
         "26",
         "27",
         "Now and Then",
         "Children|Drama",
         "1995"
        ],
        [
         "27",
         "28",
         "Persuasion",
         "Drama|Romance",
         "1995"
        ],
        [
         "28",
         "29",
         "City of Lost Children, The (Cité des enfants perdus, La)",
         "Adventure|Drama|Fantasy|Mystery|Sci-Fi",
         "1995"
        ],
        [
         "29",
         "30",
         "Shanghai Triad (Yao a yao yao dao waipo qiao)",
         "Crime|Drama",
         "1995"
        ],
        [
         "30",
         "31",
         "Dangerous Minds",
         "Drama",
         "1995"
        ],
        [
         "31",
         "32",
         "Twelve Monkeys (a.k.a. 12 Monkeys)",
         "Mystery|Sci-Fi|Thriller",
         "1995"
        ],
        [
         "32",
         "34",
         "Babe",
         "Children|Drama",
         "1995"
        ],
        [
         "33",
         "36",
         "Dead Man Walking",
         "Crime|Drama",
         "1995"
        ],
        [
         "34",
         "38",
         "It Takes Two",
         "Children|Comedy",
         "1995"
        ],
        [
         "35",
         "39",
         "Clueless",
         "Comedy|Romance",
         "1995"
        ],
        [
         "36",
         "40",
         "Cry, the Beloved Country",
         "Drama",
         "1995"
        ],
        [
         "37",
         "41",
         "Richard III",
         "Drama|War",
         "1995"
        ],
        [
         "38",
         "42",
         "Dead Presidents",
         "Action|Crime|Drama",
         "1995"
        ],
        [
         "39",
         "43",
         "Restoration",
         "Drama",
         "1995"
        ],
        [
         "40",
         "44",
         "Mortal Kombat",
         "Action|Adventure|Fantasy",
         "1995"
        ],
        [
         "41",
         "45",
         "To Die For",
         "Comedy|Drama|Thriller",
         "1995"
        ],
        [
         "42",
         "46",
         "How to Make an American Quilt",
         "Drama|Romance",
         "1995"
        ],
        [
         "43",
         "47",
         "Seven (a.k.a. Se7en)",
         "Mystery|Thriller",
         "1995"
        ],
        [
         "44",
         "48",
         "Pocahontas",
         "Animation|Children|Drama|Musical|Romance",
         "1995"
        ],
        [
         "45",
         "49",
         "When Night Is Falling",
         "Drama|Romance",
         "1995"
        ],
        [
         "46",
         "50",
         "Usual Suspects, The",
         "Crime|Mystery|Thriller",
         "1995"
        ],
        [
         "47",
         "52",
         "Mighty Aphrodite",
         "Comedy|Drama|Romance",
         "1995"
        ],
        [
         "48",
         "53",
         "Lamerica",
         "Adventure|Drama",
         "1994"
        ],
        [
         "49",
         "54",
         "Big Green, The",
         "Children|Comedy",
         "1995"
        ]
       ],
       "shape": {
        "columns": 4,
        "rows": 9742
       }
      },
      "text/html": [
       "<div>\n",
       "<style scoped>\n",
       "    .dataframe tbody tr th:only-of-type {\n",
       "        vertical-align: middle;\n",
       "    }\n",
       "\n",
       "    .dataframe tbody tr th {\n",
       "        vertical-align: top;\n",
       "    }\n",
       "\n",
       "    .dataframe thead th {\n",
       "        text-align: right;\n",
       "    }\n",
       "</style>\n",
       "<table border=\"1\" class=\"dataframe\">\n",
       "  <thead>\n",
       "    <tr style=\"text-align: right;\">\n",
       "      <th></th>\n",
       "      <th>movieId</th>\n",
       "      <th>title</th>\n",
       "      <th>genres</th>\n",
       "      <th>year</th>\n",
       "    </tr>\n",
       "  </thead>\n",
       "  <tbody>\n",
       "    <tr>\n",
       "      <th>0</th>\n",
       "      <td>1</td>\n",
       "      <td>Toy Story</td>\n",
       "      <td>Adventure|Animation|Children|Comedy|Fantasy</td>\n",
       "      <td>1995</td>\n",
       "    </tr>\n",
       "    <tr>\n",
       "      <th>1</th>\n",
       "      <td>2</td>\n",
       "      <td>Jumanji</td>\n",
       "      <td>Adventure|Children|Fantasy</td>\n",
       "      <td>1995</td>\n",
       "    </tr>\n",
       "    <tr>\n",
       "      <th>2</th>\n",
       "      <td>3</td>\n",
       "      <td>Grumpier Old Men</td>\n",
       "      <td>Comedy|Romance</td>\n",
       "      <td>1995</td>\n",
       "    </tr>\n",
       "    <tr>\n",
       "      <th>3</th>\n",
       "      <td>4</td>\n",
       "      <td>Waiting to Exhale</td>\n",
       "      <td>Comedy|Drama|Romance</td>\n",
       "      <td>1995</td>\n",
       "    </tr>\n",
       "    <tr>\n",
       "      <th>4</th>\n",
       "      <td>5</td>\n",
       "      <td>Father of the Bride Part II</td>\n",
       "      <td>Comedy</td>\n",
       "      <td>1995</td>\n",
       "    </tr>\n",
       "    <tr>\n",
       "      <th>...</th>\n",
       "      <td>...</td>\n",
       "      <td>...</td>\n",
       "      <td>...</td>\n",
       "      <td>...</td>\n",
       "    </tr>\n",
       "    <tr>\n",
       "      <th>9737</th>\n",
       "      <td>193581</td>\n",
       "      <td>Black Butler: Book of the Atlantic</td>\n",
       "      <td>Action|Animation|Comedy|Fantasy</td>\n",
       "      <td>2017</td>\n",
       "    </tr>\n",
       "    <tr>\n",
       "      <th>9738</th>\n",
       "      <td>193583</td>\n",
       "      <td>No Game No Life: Zero</td>\n",
       "      <td>Animation|Comedy|Fantasy</td>\n",
       "      <td>2017</td>\n",
       "    </tr>\n",
       "    <tr>\n",
       "      <th>9739</th>\n",
       "      <td>193585</td>\n",
       "      <td>Flint</td>\n",
       "      <td>Drama</td>\n",
       "      <td>2017</td>\n",
       "    </tr>\n",
       "    <tr>\n",
       "      <th>9740</th>\n",
       "      <td>193587</td>\n",
       "      <td>Bungo Stray Dogs: Dead Apple</td>\n",
       "      <td>Action|Animation</td>\n",
       "      <td>2018</td>\n",
       "    </tr>\n",
       "    <tr>\n",
       "      <th>9741</th>\n",
       "      <td>193609</td>\n",
       "      <td>Andrew Dice Clay: Dice Rules</td>\n",
       "      <td>Comedy</td>\n",
       "      <td>1991</td>\n",
       "    </tr>\n",
       "  </tbody>\n",
       "</table>\n",
       "<p>9742 rows × 4 columns</p>\n",
       "</div>"
      ],
      "text/plain": [
       "      movieId                               title  \\\n",
       "0           1                           Toy Story   \n",
       "1           2                             Jumanji   \n",
       "2           3                    Grumpier Old Men   \n",
       "3           4                   Waiting to Exhale   \n",
       "4           5         Father of the Bride Part II   \n",
       "...       ...                                 ...   \n",
       "9737   193581  Black Butler: Book of the Atlantic   \n",
       "9738   193583               No Game No Life: Zero   \n",
       "9739   193585                               Flint   \n",
       "9740   193587        Bungo Stray Dogs: Dead Apple   \n",
       "9741   193609        Andrew Dice Clay: Dice Rules   \n",
       "\n",
       "                                           genres  year  \n",
       "0     Adventure|Animation|Children|Comedy|Fantasy  1995  \n",
       "1                      Adventure|Children|Fantasy  1995  \n",
       "2                                  Comedy|Romance  1995  \n",
       "3                            Comedy|Drama|Romance  1995  \n",
       "4                                          Comedy  1995  \n",
       "...                                           ...   ...  \n",
       "9737              Action|Animation|Comedy|Fantasy  2017  \n",
       "9738                     Animation|Comedy|Fantasy  2017  \n",
       "9739                                        Drama  2017  \n",
       "9740                             Action|Animation  2018  \n",
       "9741                                       Comedy  1991  \n",
       "\n",
       "[9742 rows x 4 columns]"
      ]
     },
     "execution_count": 73,
     "metadata": {},
     "output_type": "execute_result"
    }
   ],
   "source": [
    "df"
   ]
  },
  {
   "cell_type": "code",
   "execution_count": 76,
   "metadata": {},
   "outputs": [
    {
     "data": {
      "text/plain": [
       "np.float64(1994.6039308499692)"
      ]
     },
     "execution_count": 76,
     "metadata": {},
     "output_type": "execute_result"
    }
   ],
   "source": [
    "df['year'].mean()"
   ]
  }
 ],
 "metadata": {
  "kernelspec": {
   "display_name": "movielens-venv",
   "language": "python",
   "name": "python3"
  },
  "language_info": {
   "codemirror_mode": {
    "name": "ipython",
    "version": 3
   },
   "file_extension": ".py",
   "mimetype": "text/x-python",
   "name": "python",
   "nbconvert_exporter": "python",
   "pygments_lexer": "ipython3",
   "version": "3.10.12"
  }
 },
 "nbformat": 4,
 "nbformat_minor": 2
}
